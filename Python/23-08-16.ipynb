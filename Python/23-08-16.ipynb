{
 "cells": [
  {
   "cell_type": "code",
   "execution_count": 11,
   "metadata": {},
   "outputs": [
    {
     "name": "stdout",
     "output_type": "stream",
     "text": [
      "Hello\n",
      "Hello\n",
      "Hello\n",
      "World\n",
      "Hello\n",
      "Hello\n",
      "Hello\n",
      "World\n",
      "Hello\n",
      "Hello\n",
      "Hello\n",
      "World\n",
      "Hello\n",
      "Hello\n",
      "Hello\n",
      "World\n",
      "Hello\n",
      "Hello\n",
      "Hello\n",
      "World\n"
     ]
    }
   ],
   "source": [
    "for i in range(5):\n",
    "    for j in range(3):\n",
    "        print(\"Hello\")\n",
    "    \n",
    "    print(\"World\")"
   ]
  },
  {
   "cell_type": "code",
   "execution_count": 19,
   "metadata": {},
   "outputs": [
    {
     "name": "stdout",
     "output_type": "stream",
     "text": [
      "2 * 1 =  2 3 * 1 =  3 4 * 1 =  4 \n",
      "2 * 2 =  4 3 * 2 =  6 4 * 2 =  8 \n",
      "2 * 3 =  6 3 * 3 =  9 4 * 3 = 12 \n",
      "2 * 4 =  8 3 * 4 = 12 4 * 4 = 16 \n",
      "2 * 5 = 10 3 * 5 = 15 4 * 5 = 20 \n",
      "2 * 6 = 12 3 * 6 = 18 4 * 6 = 24 \n",
      "2 * 7 = 14 3 * 7 = 21 4 * 7 = 28 \n",
      "2 * 8 = 16 3 * 8 = 24 4 * 8 = 32 \n",
      "2 * 9 = 18 3 * 9 = 27 4 * 9 = 36 \n"
     ]
    }
   ],
   "source": [
    "for i in range(1, 10):\n",
    "    for j in range(2, 5):\n",
    "        print(\"{} * {} = {:>2}\".format(j, i, j * i), end = \" \")\n",
    "\n",
    "    print()"
   ]
  },
  {
   "cell_type": "code",
   "execution_count": null,
   "metadata": {},
   "outputs": [],
   "source": []
  }
 ],
 "metadata": {
  "kernelspec": {
   "display_name": "ENF",
   "language": "python",
   "name": "enf"
  },
  "language_info": {
   "codemirror_mode": {
    "name": "ipython",
    "version": 3
   },
   "file_extension": ".py",
   "mimetype": "text/x-python",
   "name": "python",
   "nbconvert_exporter": "python",
   "pygments_lexer": "ipython3",
   "version": "3.8.17"
  },
  "orig_nbformat": 4
 },
 "nbformat": 4,
 "nbformat_minor": 2
}
